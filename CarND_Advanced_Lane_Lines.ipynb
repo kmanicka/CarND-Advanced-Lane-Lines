{
  "nbformat": 4,
  "nbformat_minor": 0,
  "metadata": {
    "colab": {
      "name": "CarND-Advanced-Lane-Lines.ipynb",
      "version": "0.3.2",
      "provenance": []
    },
    "kernelspec": {
      "name": "python3",
      "display_name": "Python 3"
    }
  },
  "cells": [
    {
      "cell_type": "markdown",
      "metadata": {
        "id": "view-in-github",
        "colab_type": "text"
      },
      "source": [
        "[View in Colaboratory](https://colab.research.google.com/github/kmanicka/CarND-Advanced-Lane-Lines/blob/master/CarND_Advanced_Lane_Lines.ipynb)"
      ]
    },
    {
      "metadata": {
        "id": "skOi4aoeV-2c",
        "colab_type": "code",
        "colab": {}
      },
      "cell_type": "code",
      "source": [
        ""
      ],
      "execution_count": 0,
      "outputs": []
    }
  ]
}